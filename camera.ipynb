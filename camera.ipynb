{
 "cells": [
  {
   "cell_type": "code",
   "execution_count": 70,
   "metadata": {},
   "outputs": [
    {
     "name": "stdout",
     "output_type": "stream",
     "text": [
      "Requirement already satisfied: opencv-python in c:\\users\\arkade\\appdata\\local\\packages\\pythonsoftwarefoundation.python.3.9_qbz5n2kfra8p0\\localcache\\local-packages\\python39\\site-packages (4.7.0.72)\n",
      "Requirement already satisfied: numpy>=1.17.0 in c:\\users\\arkade\\appdata\\local\\packages\\pythonsoftwarefoundation.python.3.9_qbz5n2kfra8p0\\localcache\\local-packages\\python39\\site-packages (from opencv-python) (1.23.0)\n",
      "Note: you may need to restart the kernel to use updated packages.\n"
     ]
    },
    {
     "name": "stderr",
     "output_type": "stream",
     "text": [
      "WARNING: You are using pip version 22.0.4; however, version 23.1.2 is available.\n",
      "You should consider upgrading via the 'C:\\Users\\ARKADE\\AppData\\Local\\Microsoft\\WindowsApps\\PythonSoftwareFoundation.Python.3.9_qbz5n2kfra8p0\\python.exe -m pip install --upgrade pip' command.\n"
     ]
    },
    {
     "name": "stdout",
     "output_type": "stream",
     "text": [
      "Requirement already satisfied: numpy in c:\\users\\arkade\\appdata\\local\\packages\\pythonsoftwarefoundation.python.3.9_qbz5n2kfra8p0\\localcache\\local-packages\\python39\\site-packages (1.23.0)\n",
      "Note: you may need to restart the kernel to use updated packages.\n"
     ]
    },
    {
     "name": "stderr",
     "output_type": "stream",
     "text": [
      "WARNING: You are using pip version 22.0.4; however, version 23.1.2 is available.\n",
      "You should consider upgrading via the 'C:\\Users\\ARKADE\\AppData\\Local\\Microsoft\\WindowsApps\\PythonSoftwareFoundation.Python.3.9_qbz5n2kfra8p0\\python.exe -m pip install --upgrade pip' command.\n"
     ]
    }
   ],
   "source": [
    "%pip install opencv-python\n",
    "%pip install numpy"
   ]
  },
  {
   "cell_type": "code",
   "execution_count": 2,
   "metadata": {},
   "outputs": [],
   "source": [
    "import cv2\n",
    "import numpy as np"
   ]
  },
  {
   "attachments": {},
   "cell_type": "markdown",
   "metadata": {},
   "source": [
    "### ABRIR CAMERA"
   ]
  },
  {
   "cell_type": "code",
   "execution_count": 4,
   "metadata": {},
   "outputs": [],
   "source": [
    "captura = cv2.VideoCapture(0)\n",
    "\n",
    "while(True):\n",
    "    ret, frame = captura.read()\n",
    "    cv2.imshow('Video', frame)\n",
    "\n",
    "    k = cv2.waitKey(30) & 0xff\n",
    "    if k==27:\n",
    "        break\n",
    "\n",
    "captura.release()\n",
    "cv2.destroyAllWindows()\n",
    "# imagem = cv2.imread('video',)"
   ]
  },
  {
   "attachments": {},
   "cell_type": "markdown",
   "metadata": {},
   "source": [
    "### ABRIR IMAGEM"
   ]
  },
  {
   "cell_type": "code",
   "execution_count": 12,
   "metadata": {},
   "outputs": [
    {
     "name": "stdout",
     "output_type": "stream",
     "text": [
      "250 10 10\n"
     ]
    }
   ],
   "source": [
    "image = cv2.imread('C:/Users/ARKADE/Documents/PROJETOS/visao/zebra.jpeg')\n",
    "\n",
    "cv2.imshow(\"Image\", image)\n",
    "cv2.waitKey(0)\n",
    "cv2.destroyAllWindows()\n",
    "\n"
   ]
  },
  {
   "attachments": {},
   "cell_type": "markdown",
   "metadata": {},
   "source": [
    "### EDITAR IMAGEM"
   ]
  },
  {
   "cell_type": "code",
   "execution_count": null,
   "metadata": {},
   "outputs": [],
   "source": [
    "image = cv2.imread('C:/Users/ARKADE/Documents/PROJETOS/visao/zebra.jpeg')\n",
    "\n",
    "image[0:50,0:50] = [250,10,10]\n",
    "cv2.imshow(\"Image\", image)\n",
    "cv2.waitKey(0)\n",
    "cv2.destroyAllWindows()\n",
    "(b, g, r) = image[0,0]\n",
    "print(b, g, r)\n",
    "# cv2.imwrite(\"newimage.jpg\", image)\n"
   ]
  },
  {
   "attachments": {},
   "cell_type": "markdown",
   "metadata": {},
   "source": [
    "### TIRAR LISTRAS DA ZEBRA"
   ]
  },
  {
   "cell_type": "code",
   "execution_count": 61,
   "metadata": {},
   "outputs": [
    {
     "name": "stdout",
     "output_type": "stream",
     "text": [
      "225 225\n"
     ]
    },
    {
     "data": {
      "text/plain": [
       "True"
      ]
     },
     "execution_count": 61,
     "metadata": {},
     "output_type": "execute_result"
    }
   ],
   "source": [
    "image = cv2.imread('C:/Users/ARKADE/Documents/PROJETOS/visao/zebra.jpeg')\n",
    "\n",
    "print(image.shape[0], image.shape[1])\n",
    "# image[0:50,0:50] = [250,10,10]\n",
    "\n",
    "for y in range(0, image.shape[0]):\n",
    "    for x in range(0, image.shape[1]):\n",
    "        (b, g, r) = image[y, x]\n",
    "\n",
    "        corte = 80\n",
    "\n",
    "        if(r < corte and b<corte and g<corte):\n",
    "            image[y, x] = (80, 193, 63)\n",
    "\n",
    "\n",
    "\n",
    "\n",
    "cv2.imshow(\"Image\", image)\n",
    "cv2.waitKey(0)\n",
    "cv2.destroyAllWindows()\n",
    "cv2.imwrite(\"newimage.jpg\", image)\n"
   ]
  },
  {
   "attachments": {},
   "cell_type": "markdown",
   "metadata": {},
   "source": [
    "# DETECTOR DE FACES"
   ]
  },
  {
   "cell_type": "code",
   "execution_count": 3,
   "metadata": {},
   "outputs": [],
   "source": [
    "captura = cv2.VideoCapture(0)\n",
    "\n",
    "while(True):\n",
    "    ret, frame = captura.read()\n",
    "    # cv2.rectangle(frame, (10, 70), (90,190), (255,0,0) )\n",
    "\n",
    "    # frame[0:50, 0:50] = (80, 193, 63\n",
    "    normal = frame\n",
    "    ipb =  cv2.cvtColor(frame, cv2.COLOR_BGR2GRAY)\n",
    "    frame = cv2.resize(ipb, (330,250), interpolation= cv2.INTER_AREA)\n",
    "    suave = cv2.GaussianBlur(frame, (7, 7), 0)\n",
    "    # canny2 = cv2.adaptiveThreshold(suave, 255,cv2.ADAPTIVE_THRESH_GAUSSIAN_C, cv2.THRESH_BINARY_INV, 21, 5)\n",
    "    # canny1 = cv2.Canny(suave, 20, 120)\n",
    "    # canny3 = cv2.Canny(suave, 50, 200)\n",
    "    # canny4= cv2.Canny(suave, 100, 50)\n",
    "    # canny5 = cv2.Canny(suave, 50, 20)\n",
    "    # canny6 = cv2.Canny(suave, 170, 100)\n",
    "    # canny7 = cv2.Canny(suave, 80, 90)\n",
    "    # canny8 = cv2.Canny(suave, 60, 130)\n",
    "    # resultado = np.vstack([\n",
    "    # np.hstack([canny1, canny2, canny3]),\n",
    "    # np.hstack([canny4, canny5, canny6]),\n",
    "    # np.hstack([canny7, canny8, suave])\n",
    "    # ]) \n",
    "\n",
    "    #Criação do detector de faces\n",
    "    df = cv2.CascadeClassifier('C:/Users/ARKADE/Documents/PROJETOS/visao/frontalface.xml')\n",
    "    detectEye = cv2.CascadeClassifier('C:/Users/ARKADE/Documents/PROJETOS/visao/eye.xml')\n",
    "    #Executa a detecção\n",
    "    faces = df.detectMultiScale(ipb,scaleFactor = 1.05, minNeighbors = 7, minSize = (30,30), flags = cv2.CASCADE_SCALE_IMAGE)\n",
    "    eyes = detectEye.detectMultiScale(ipb,scaleFactor = 1.05, minNeighbors = 7, minSize = (30,30), flags = cv2.CASCADE_SCALE_IMAGE)\n",
    "    #Desenha retangulos amarelos na iamgem original (colorida)\n",
    "    for (x, y, w, h) in faces:\n",
    "        cv2.rectangle(normal, (x, y), (x + w, y + h), (0, 255, 0), 3)\n",
    "    # for (x, y, w, h) in eyes:\n",
    "    #     cv2.rectangle(normal, (x, y), (x + w, y + h), (0, 255, 255), 7)\n",
    "\n",
    "    cv2.imshow('Video', normal)\n",
    "    k = cv2.waitKey(30) & 0xff\n",
    "    if k==27:\n",
    "        break\n",
    "\n",
    "captura.release()\n",
    "cv2.destroyAllWindows()"
   ]
  },
  {
   "attachments": {},
   "cell_type": "markdown",
   "metadata": {},
   "source": [
    "# AULA 3 "
   ]
  },
  {
   "cell_type": "code",
   "execution_count": 3,
   "metadata": {},
   "outputs": [],
   "source": [
    "canvas = np.ones((300,400,3)) * 255\n",
    "\n",
    "cv2.rectangle(canvas, (10, 70), (90,190), (255,0,0))\n",
    "\n",
    "cv2.imshow(\"Canvas\", canvas)\n",
    "cv2.waitKey(0)\n",
    "cv2.destroyAllWindows()"
   ]
  },
  {
   "cell_type": "code",
   "execution_count": null,
   "metadata": {},
   "outputs": [],
   "source": [
    "from matplotlib import pyplot as plt\n",
    "\n",
    "img = cv2.imread(\"C:/Users/ARKADE/Documents/PROJETOS/visao/iphone.jpg\")\n",
    "img = cv2.cvtColor(img, cv2.COLOR_BGR2GRAY) #converte P&B\n",
    "h_eq = cv2.resize(img, [800,350])\n",
    "img = cv2.resize(img, [800,350])\n",
    "h_eq = cv2.equalizeHist(h_eq)\n",
    "cv2.imshow(\"Imagem P&B\", np.hstack([img, h_eq]))\n",
    "# cv2.imshow()\n",
    "#Função calcHist para calcular o hisograma da imagem\n",
    "h = cv2.calcHist([h_eq], [0], None, [256], [0, 256])\n",
    "plt.figure()\n",
    "plt.title(\"Histograma P&B\")\n",
    "plt.xlabel(\"Intensidade\")\n",
    "plt.ylabel(\"Qtde de Pixels\")\n",
    "plt.plot(h)\n",
    "plt.xlim([0, 256])\n",
    "plt.show()\n",
    "cv2.waitKey(0)\n",
    "cv2.destroyAllWindows()"
   ]
  },
  {
   "cell_type": "code",
   "execution_count": 69,
   "metadata": {},
   "outputs": [],
   "source": [
    "video = cv2.VideoCapture(0)\n",
    "image = cv2.imread(\"C:/Users/ARKADE/Documents/PROJETOS/visao/urso.jpg\")\n",
    "while True:\n",
    " \n",
    "    ret, frame = video.read()\n",
    " \n",
    "    frame = cv2.resize(frame, (640, 480))\n",
    "    # frame = cv2.GaussianBlur(frame, (7, 7), 0)\n",
    "    image = cv2.resize(image, [640, 480])\n",
    " \n",
    " \n",
    "    u_green = np.array([230, 255, 255])\n",
    "    l_green = np.array([30, 140, 130])\n",
    " \n",
    "    mask = cv2.inRange(frame, l_green, u_green)\n",
    "    res = cv2.bitwise_and(frame, frame, mask = mask)\n",
    " \n",
    "    f = frame - res\n",
    "    f = np.where(f == 0, image, f)\n",
    " \n",
    "    cv2.imshow('mask',np.hstack([frame, f]))\n",
    " \n",
    "    if cv2.waitKey(25) == 27:\n",
    "        break\n",
    " \n",
    "video.release()\n",
    "cv2.destroyAllWindows()"
   ]
  },
  {
   "attachments": {},
   "cell_type": "markdown",
   "metadata": {},
   "source": [
    "# JOGO DA ESTATUA"
   ]
  },
  {
   "cell_type": "code",
   "execution_count": 71,
   "metadata": {},
   "outputs": [],
   "source": [
    "import time\n",
    "import cv2 as cv\n",
    "\n",
    "cap = cv.VideoCapture(0)\n",
    "ret, frame1 = cap.read()\n",
    "ret, frame2 = cap.read()\n",
    "\n",
    "mexeu = 0\n",
    "while cap.isOpened():\n",
    "    diff = cv.absdiff(frame1, frame2)\n",
    "    diff_gray = cv.cvtColor(diff, cv.COLOR_BGR2GRAY)\n",
    "    blur = cv.GaussianBlur(diff_gray, (5, 5), 0)\n",
    "    _, thresh = cv.threshold(blur, 20, 255, cv.THRESH_BINARY)\n",
    "    dilated = cv.dilate(thresh, None, iterations=3)\n",
    "    contours, _ = cv.findContours(\n",
    "        dilated, cv.RETR_TREE, cv.CHAIN_APPROX_SIMPLE)\n",
    "\n",
    "    for contour in contours:\n",
    "        (x, y, w, h) = cv.boundingRect(contour)\n",
    "        if cv.contourArea(contour) < 10000:\n",
    "            continue\n",
    "        cv.rectangle(frame1, (x, y), (x+w, y+h), (0, 255, 0), 2)\n",
    "        cv.putText(frame1, \"VOCE PERDEU\", (10, 20), cv.FONT_HERSHEY_SIMPLEX,\n",
    "                    1, (255, 0, 0), 3)\n",
    "        mexeu += 1\n",
    "        \n",
    "\n",
    "    # cv.drawContours(frame1, contours, -1, (0, 255, 0), 2)\n",
    "\n",
    "    cv.imshow(\"Video\", frame1)\n",
    "    frame1 = frame2\n",
    "    ret, frame2 = cap.read()\n",
    "\n",
    "    if cv.waitKey(50) == 27:\n",
    "        break\n",
    "\n",
    "    if(mexeu > 3):\n",
    "        time.sleep(2)\n",
    "        break\n",
    "\n",
    "cap.release()\n",
    "cv.destroyAllWindows()"
   ]
  }
 ],
 "metadata": {
  "kernelspec": {
   "display_name": "Python 3",
   "language": "python",
   "name": "python3"
  },
  "language_info": {
   "codemirror_mode": {
    "name": "ipython",
    "version": 3
   },
   "file_extension": ".py",
   "mimetype": "text/x-python",
   "name": "python",
   "nbconvert_exporter": "python",
   "pygments_lexer": "ipython3",
   "version": "3.9.13"
  },
  "orig_nbformat": 4
 },
 "nbformat": 4,
 "nbformat_minor": 2
}
